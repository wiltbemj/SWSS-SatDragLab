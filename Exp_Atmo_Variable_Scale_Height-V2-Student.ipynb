{
 "cells": [
  {
   "cell_type": "markdown",
   "metadata": {},
   "source": [
    "# Exponential Atmosphere Comparisons¶"
   ]
  },
  {
   "cell_type": "markdown",
   "metadata": {},
   "source": [
    "## Introduction\n",
    "The change in density (and pressure) of an atmosphere can be simply modeled by using the \"exponential atmospheres\" model described below. The goal of this notebook is to explore the atmospheric parameters that affect the change in density as a function of altitude. As you explore this, keep in mind the affect of the density on satellite orbits."
   ]
  },
  {
   "cell_type": "code",
   "execution_count": null,
   "metadata": {},
   "outputs": [],
   "source": [
    "import numpy as np\n",
    "import matplotlib.pyplot as plt\n",
    "import ipywidgets as widgets\n",
    "\n",
    "alt_max = 500 #maximum altitude in kilometers declared globally"
   ]
  },
  {
   "cell_type": "markdown",
   "metadata": {},
   "source": [
    "## Part 1: Exponential Atmosphere\n",
    "_This exercise follows lectures by Stan Solomn who is following \n",
    "Chamberlain & Hunten, Theory of Planetary Atmospheres_\n",
    "Part 1 does not require a lot of interaction but lays out the approach we will take and sets up some functions that will be useful.  \n",
    "\n",
    "The pressure decreases at higher altitudes with a pressure gradient given by:\n",
    "\n",
    ">$ dP/dz = - g(z) \\rho(z)$ where $\\rho(z) $ is the atmosphereic density as a function of hegiht\n",
    "\n",
    "Using the Ideal Gas Law:\n",
    "\n",
    ">$P = nkT = \\frac{\\rho}{M_w}kT$  where $M_w$ is the molecular weight.  \n",
    "\n",
    "Plugging into the pressure gradient reltionship and we get \n",
    "\n",
    ">$dP/dz = - P(z) M_w g(z)/kT = - P(z)/H$ where $ H= \\frac{kT}{M_w g}$ \n",
    "\n",
    "$H$ is refered to as the \"Scale Height\". "
   ]
  },
  {
   "cell_type": "markdown",
   "metadata": {},
   "source": [
    "#### Scale Height Function\n",
    "The following function calculates the scale height. \n",
    "- Execute that cell, \n",
    "- and then in the empty cell below it, call the function with some appropriate values at sea level.  \n",
    "- (Use the average value of molecular weight of $N_2$ and $O_2$.) \n",
    "What is the typical scale hieght?  "
   ]
  },
  {
   "cell_type": "code",
   "execution_count": null,
   "metadata": {},
   "outputs": [],
   "source": [
    "def SH(T,mw,g): #returns the scale height in meters\n",
    "    amu = 1.66e-27 # mass of a proton in Kilograms\n",
    "    mass = mw*amu # find the actual mass in kilograms\n",
    "    kb = 1.381e-23 # Boltzman Const. Joules per Kelvin\n",
    "    h = kb*T/(mass*g)\n",
    "    return(h)"
   ]
  },
  {
   "cell_type": "code",
   "execution_count": null,
   "metadata": {},
   "outputs": [],
   "source": []
  },
  {
   "cell_type": "markdown",
   "metadata": {},
   "source": [
    "### Reference Solution: An Exponential Atmosphere\n",
    "\n",
    "The pressure as a function of altitude is given by this differential equation:\n",
    ">$dP/dz = - P(z) M_w(z) g(z)/kT(z) = - P(z)/H(z),$ where $ H= \\frac{kT}{M_w g}$ \n",
    "\n",
    "As an example, we can start by looking at the solution where $H(z)$ is a constant assuming a atmospheric temperature of 300 K, an average molecular weight (which means a constant composition) of 29 grams/mole (average, and a constant value for the Earth's gravitational field of $g_0=9.8 m/s^2$.\n",
    "\n",
    "For this case can be solved analytically, but we will do it numerically to show the approach.  For simplicity and ease of understanding the code, we will use Euler's Method:\n",
    "\n",
    ">$dP/dz \\approx \\frac{P(h+\\Delta h) - P(h)}{\\Delta h} = - P(h)/H(h)$\n",
    "\n",
    "> $P(h+\\Delta h) = P(h)*(1-\\Delta h/H(h))$\n",
    "\n",
    "The following function takes arrays of $T$, $M_w$, and $g$ that \"can\" vary with height. \n",
    "\n",
    "It should be noted that, considering the ideal gas law, the density and pressure scale with each other and so obey the same differential equation.\n",
    "> $\\rho(h+\\Delta h) = \\rho(h)*(1-\\Delta h/H(h))$"
   ]
  },
  {
   "cell_type": "code",
   "execution_count": null,
   "metadata": {},
   "outputs": [],
   "source": [
    "def density_ref(T, mw, g): #integrate for atmospheric density using fixed parameters\n",
    "    # initialize altitude\n",
    "    alt = [0] \n",
    "    h = 0 \n",
    "    dh=10 # height increments in meters\n",
    "    i = 0\n",
    "\n",
    "    # initialize density\n",
    "    rho_0 = 1.2 # atmosphereic density at sea level in kg/m^3\n",
    "    den = [rho_0]\n",
    "    rho = rho_0\n",
    "    \n",
    "    #Integrate atmosphere over hieght\n",
    "    while h<alt_max*1000: # increase hieght 1 meter at a time\n",
    "        h += dh\n",
    "        i+=1\n",
    "        H_s = SH(T[i],mw[i],g[i]) #Find the new scale height at a given altitude\n",
    "        rho -= rho*dh/H_s #increment the density down\n",
    "        alt.append(h/1000);den.append(rho)\n",
    "    return(alt,den)"
   ]
  },
  {
   "cell_type": "markdown",
   "metadata": {},
   "source": [
    "#### Constant Parameter\n",
    "The following functions set the $T$, $M_w$, and $g$ arrays to a value near the surface of the Earth.\n",
    "> Of course this is computationally unneccassary but it sets up a structure that will be used later when these values are varied."
   ]
  },
  {
   "cell_type": "code",
   "execution_count": null,
   "metadata": {},
   "outputs": [],
   "source": [
    "def Grav_const(): #Calculate the acceleration due to Gravity at the surface of the Earth\n",
    "    GMe = 3.986e14 #Gravitational Constant * Mass of the Earth [m^3/s^2]\n",
    "    R_e = 6.371e6 #Radius of the Earth in meters\n",
    "    g_Re = GMe/(R_e)**2\n",
    "    g = [g_Re] #create a list containing the value of g_Re\n",
    "    h=0; dh=10\n",
    "    while h<alt_max*1000: # increase hieght 1 meter at a time\n",
    "        h += dh\n",
    "        g.append(g_Re)\n",
    "    return(g)\n",
    "\n",
    "def mole_const(): #set the mw list to the average molecular mass\n",
    "    mw = [29.0] #average molecular mass of atmosphere at Earth's surface\n",
    "    h=0; dh=10\n",
    "    while h<alt_max*1000: # increase hieght 1 meter at a time\n",
    "        h += dh\n",
    "        mw.append(29.0)\n",
    "    return(mw)\n",
    "\n",
    "def Temp_const(): # set the Temp array to the temperature at the surface of the Earth\n",
    "    T = [300] #estimated temperature at surface of the Earth\n",
    "    h=0; dh=10\n",
    "    while h<alt_max*1000: # increase hieght 1 meter at a time\n",
    "        h += dh\n",
    "        T.append(300)\n",
    "    return(T)\n"
   ]
  },
  {
   "cell_type": "markdown",
   "metadata": {},
   "source": [
    "The next cell uses the functions above "
   ]
  },
  {
   "cell_type": "code",
   "execution_count": null,
   "metadata": {
    "scrolled": true
   },
   "outputs": [],
   "source": [
    "# Get the lists for the constants used to calcuate the scale height\n",
    "g=Grav_const()\n",
    "mw = mole_const()\n",
    "T = Temp_const()\n",
    "\n",
    "rho1= density_ref(T, mw, g)\n",
    "\n",
    "#plot the density \n",
    "fig, ax = plt.subplots(1,figsize=(5,3))\n",
    "plt.suptitle(\"Atmo Density\")\n",
    "ax.clear() # set up a plot\n",
    "ax.plot(rho1[1],rho1[0],'b--',label = \"reference plot\")\n",
    "plt.xscale('log') #set a semilog plot\n",
    "ax.set_ylabel('alt in kilometers')\n",
    "ax.set_xlabel('density in kg/m^3')\n",
    "ax.legend() # turn on the legend\n",
    "plt.show()\n"
   ]
  },
  {
   "cell_type": "markdown",
   "metadata": {},
   "source": [
    "## Part 2: Solution with variable parameters\n",
    "In part 2, we will start to include some variation in the parameters that go into the scale height: \n",
    "- gravitational acceleration, $g$.\n",
    "- average molecular mass, $M_w$\n",
    "- temperature, $T$\n",
    "\n",
    "These all can vary with altitude and so change the scale height. We will see how this can affect the density of the atmosphere. While $g$ varies in a way that we can easily model, $M_w$ and $T$ can vary in a more complicated way that may require a complicated model atmospheric model. We will use some simple models for the variation of the parameters that mimic some of features that exist in the atmosphere/thermosphere. We will explore these one at at a time.  "
   ]
  },
  {
   "cell_type": "markdown",
   "metadata": {},
   "source": [
    "### Part 2.a Gravitational Acceleration\n",
    "The gravitaitonal acceleration is given by $g(r) = GM_e/r^2$.  This can also be refered to as a function of $g(h) = GM_e/(R_e+h)^2$. \n",
    "\n",
    "The function below is a copy of \"Grav_const\" used above.  Modify this function to return a list \"g\" which has the values of g(h) based on the function above. \n",
    "\n",
    "**How significant does the variation in gravitational acceleration affect the density profile?**"
   ]
  },
  {
   "cell_type": "code",
   "execution_count": null,
   "metadata": {},
   "outputs": [],
   "source": [
    "def Grav(): #Modify this function as described above\n",
    "    GMe = 3.986e14 #Gravitational Constant * Mass of the Earth [m^3/s^2]\n",
    "    R_e = 6.371e6 #Radius of the Earth in meters\n",
    "    g_Re = GMe/(R_e)**2\n",
    "    g = [g_Re] #create a list containing the value of g_Re at the surface of the Earth\n",
    "    h=0; dh=10 #start altitude at 0 and increment by 10 meters\n",
    "    while h<alt_max*1000: # increase hieght 1 meter at a time\n",
    "        h += dh\n",
    "        g.append(g_Re)\n",
    "    return(g)"
   ]
  },
  {
   "cell_type": "code",
   "execution_count": null,
   "metadata": {
    "scrolled": true
   },
   "outputs": [],
   "source": [
    "# Calculate the new density curve \n",
    "g = Grav() #non-constant acceleration\n",
    "mw = mole_const()\n",
    "T = Temp_const()\n",
    "\n",
    "rho2 = density_ref(T, mw, g)\n",
    "\n",
    "#plot the density \n",
    "fig, ax = plt.subplots(1,figsize=(6,4))\n",
    "ax.clear() # set up a plot\n",
    "ax.plot(rho1[1],rho1[0],'b',label = \"reference plot\")\n",
    "ax.plot(rho2[1],rho2[0],'r--',label = \"vary g plot\") \n",
    "plt.xscale('log') #set a semilog plot\n",
    "ax.set_ylabel('alt in kilometers')\n",
    "ax.set_xlabel('density in kg/m^3')\n",
    "ax.legend() # turn on the legend\n",
    "plt.show()\n"
   ]
  },
  {
   "cell_type": "markdown",
   "metadata": {},
   "source": [
    "### Part 2.b Varying Atmospheric Composition\n",
    "The composition of the atmosphere changes with altitude so the average molecular weight will decrease with altitude. Below 100 km the atmosphere is fully mixed and priarily composed of $N_2$ and $O_2$.  We will model the average molecular weight here as about 29 AMU.  Above 100 km the percentage of atomic oxygen begins to increase until it is the dominant species. We will assume that at 500 km atomic oxygen is the dominant species and the atomic weight is 16.  We will further assume that between 100 km and 500 km the average molecular weight transitions smoothly from 29 amu to 16 amu. \n",
    "\n",
    "In the function below, try some of the following experiments\n",
    "- constant values of molecular weight from 29 amu to 16 amu.  \n",
    "- a function that varies smoothly from 29 to 16 amu with height\n",
    "- a function that follows the variation described above. \n",
    "\n",
    "**How does the varying mass change the density profile?**"
   ]
  },
  {
   "cell_type": "code",
   "execution_count": null,
   "metadata": {},
   "outputs": [],
   "source": [
    "def mole(): #set the mw list to the average molecular mass\n",
    "    mw = [29.0] #average molecular mass of atmosphere at Earth's surface\n",
    "    h=0; dh=10\n",
    "    while h<alt_max*1000: # increase hieght 1 meter at a time\n",
    "        h += dh\n",
    "        mw.append(29.0)\n",
    "    return(mw)"
   ]
  },
  {
   "cell_type": "code",
   "execution_count": null,
   "metadata": {
    "scrolled": true
   },
   "outputs": [],
   "source": [
    "# Calculate the new density curve \n",
    "g = Grav() #non-constant acceleration\n",
    "mw = mole() #varying molecular weight \n",
    "T = Temp_const() #Constant Temperature\n",
    "\n",
    "rho3 = density_ref(T, mw, g)\n",
    "\n",
    "#plot the density \n",
    "fig, ax = plt.subplots(1,figsize=(6,4))\n",
    "ax.clear() # set up a plot\n",
    "\n",
    "ax.plot(rho1[1],rho1[0],'b',label = \"reference\")\n",
    "ax.plot(rho2[1],rho2[0],'r--',label = \"vary g\") \n",
    "ax.plot(rho3[1],rho3[0],'g--',label = \"vary MW\") \n",
    "\n",
    "plt.xscale('log') #set a semilog plot\n",
    "ax.set_ylabel('alt in kilometers')\n",
    "ax.set_xlabel('density in kg/m^3')\n",
    "ax.legend() # turn on the legend\n",
    "plt.show()\n"
   ]
  },
  {
   "cell_type": "markdown",
   "metadata": {},
   "source": [
    "### Part 2.c Varying Atmospheric Temperature\n",
    "The atmospheric/thermosphereic tempearture varies with altitude\n",
    "\n",
    "In the function below, try some of the following experiments\n",
    "- constant values of \n",
    "\n",
    "**How does the varying Temperature change the density profile?**"
   ]
  },
  {
   "cell_type": "code",
   "execution_count": null,
   "metadata": {},
   "outputs": [],
   "source": [
    "def Temp(): # set the Temp array to the temperature at the surface of the Earth\n",
    "    T = [300] #estimated temperature at surface of the Earth\n",
    "    h=0; dh=10\n",
    "    while h<alt_max*1000: # increase hieght 1 meter at a time\n",
    "        h += dh\n",
    "        T.append(300)\n",
    "    return(T)"
   ]
  },
  {
   "cell_type": "code",
   "execution_count": null,
   "metadata": {},
   "outputs": [],
   "source": [
    "# Calculate the new density curve \n",
    "g = Grav() #non-constant acceleration\n",
    "mw = mole() #varying molecular weight \n",
    "T = Temp() #Constant Temperature\n",
    "\n",
    "rho4 = density_ref(T, mw, g)\n",
    "\n",
    "#plot the density \n",
    "fig, ax = plt.subplots(1,figsize=(6,4))\n",
    "ax.clear() # set up a plot\n",
    "\n",
    "ax.plot(rho1[1],rho1[0],'k',label = \"reference\")\n",
    "ax.plot(rho2[1],rho2[0],'r--',label = \"vary g\") \n",
    "ax.plot(rho3[1],rho3[0],'g--',label = \"vary MW\") \n",
    "ax.plot(rho4[1],rho4[0],'b--',label = \"vary Temp\") \n",
    "\n",
    "plt.xscale('log') #set a semilog plot\n",
    "ax.set_ylabel('alt in kilometers')\n",
    "ax.set_xlabel('density in kg/m^3')\n",
    "ax.legend() # turn on the legend\n",
    "plt.show()\n"
   ]
  },
  {
   "cell_type": "code",
   "execution_count": null,
   "metadata": {},
   "outputs": [],
   "source": []
  }
 ],
 "metadata": {
  "kernelspec": {
   "display_name": "Python 3 (ipykernel)",
   "language": "python",
   "name": "python3"
  },
  "language_info": {
   "codemirror_mode": {
    "name": "ipython",
    "version": 3
   },
   "file_extension": ".py",
   "mimetype": "text/x-python",
   "name": "python",
   "nbconvert_exporter": "python",
   "pygments_lexer": "ipython3",
   "version": "3.10.5"
  }
 },
 "nbformat": 4,
 "nbformat_minor": 2
}
