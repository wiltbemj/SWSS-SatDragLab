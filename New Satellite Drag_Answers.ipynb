{
 "cells": [
  {
   "cell_type": "markdown",
   "id": "4de08776",
   "metadata": {},
   "source": [
    "# Simple Model of Satellite Drag"
   ]
  },
  {
   "cell_type": "markdown",
   "id": "1fca659b",
   "metadata": {},
   "source": [
    "## Introduction\n",
    "The start link Starlink satellite system is a large constellation of relatively small (250 kg) satellites in Low Earth Orbit (LEO) that provides internet services. These satellites orbit at altitudes of between 540 km and 570 km. (https://en.wikipedia.org/wiki/Starlink) One of the goals of this lab is to understand how these spacecraft are affected by the Earth's thermosphere and if these orbits can be \"cleaned\" by solar storms. In this first notebook, you will explore how the atmospheric drag force affects the spacecraft orbit and how long it takes for drag to significantly affect the orbit.   "
   ]
  },
  {
   "cell_type": "code",
   "execution_count": 1,
   "id": "948ab7b0",
   "metadata": {},
   "outputs": [],
   "source": [
    "# import some libraries\n",
    "import matplotlib.pyplot as plt\n",
    "import numpy as np\n",
    "import math\n",
    "dummy = 0.000 # This is a dummy value to use as a place holder for student work."
   ]
  },
  {
   "cell_type": "markdown",
   "id": "116bd643",
   "metadata": {},
   "source": [
    "## Orbital Mechanics\n",
    "We can apply some fundamental physics principles, include centripital force and Newton's Theory of Gravity, as well as the Work-Energy Theorem, to analyze the affects of drag on circular orbits. "
   ]
  },
  {
   "cell_type": "markdown",
   "id": "38ddbcb7",
   "metadata": {},
   "source": [
    "### Circular Orbits\n",
    "For this exercise we will assume that the spacecraft are in circular orbits. With that assumption, we can use centripetal force relationship along with Newton's Theory of Gravity.\n",
    "> $mv^2/R = GM_e m/R^2$  ==> $v^2 = G M_e/R$\n",
    "> - $m$ is the mass of the spacecraft and $M_e$ is the mass of the Earth\n",
    "> - R is the radius orbit\n",
    "\n",
    "We can define a function for velocity."
   ]
  },
  {
   "cell_type": "code",
   "execution_count": 2,
   "id": "509d639f",
   "metadata": {},
   "outputs": [],
   "source": [
    "# Orbital Constants defined as global variables\n",
    "G = 6.67e-11 # Gravitational Constant (Nm^2/kg^2)\n",
    "Me = 5.97e24 # Mass of the Earth (kg)\n",
    "Re = 6.37e6 # Radius of the Earth (m)\n",
    "\n",
    "def Vel(r): # calcualte speed of an object in circular orbit at a given radius \n",
    "    v = math.sqrt(G*Me/r)\n",
    "    return(v)"
   ]
  },
  {
   "cell_type": "markdown",
   "id": "c9702e17",
   "metadata": {},
   "source": [
    "### Orbital Energy\n",
    "The total orbital energy of the spacecraft is sum of the kinetic and potential energy. \n",
    "> $E_{total} = \\frac{1}{2}mv^2 - G M_e/R$\n",
    "\n",
    "Using the centripetal force relationship we can rewrite this as:\n",
    "> $E_{total} = -\\frac{1}{2} G M_e/R$\n",
    "\n",
    "That the total energy is negative indicates that the spacecraft is bound in its orbit and is not going to escape.  \n",
    "\n",
    "We can define two functions that relate the total energy to the orbital radius and vis versa."
   ]
  },
  {
   "cell_type": "code",
   "execution_count": 3,
   "id": "3ae51c45",
   "metadata": {},
   "outputs": [],
   "source": [
    "def Et(r): # calculate total energy at a given radius\n",
    "    e = -G*Me*m/(2*r)\n",
    "    return(e)\n",
    "\n",
    "def r_new(e): # calcuate new radius given the energy\n",
    "    x = -G*Me*m/(2*e)\n",
    "    return (x)"
   ]
  },
  {
   "cell_type": "markdown",
   "id": "bed38c8a",
   "metadata": {},
   "source": [
    "### Drag Force\n",
    "Satellites in low Earth orbit can be effected by drag from the upper atmosphere. To model this force, we can use the relationship first described by Lord Rayleigh outlined here: https://en.wikipedia.org/wiki/Drag_equation \n",
    "\n",
    "> $F_d = \\frac{1}{2}\\rho v^2 c_d A$\n",
    "> - $\\rho$ is the density of the atmosphere \n",
    "> -  $v$ is the velocity of the space craft\n",
    "> - $c_d$ is a coefficient that depends on the shape of the object (https://en.wikipedia.org/wiki/Drag_coefficient)\n",
    "> - $A$ is the cross-sectional area of the space craft.  \n"
   ]
  },
  {
   "cell_type": "code",
   "execution_count": 4,
   "id": "8d525050",
   "metadata": {},
   "outputs": [],
   "source": [
    "def drag(rho, v): \n",
    "    # this function takes the atmosphereic density and\n",
    "    # the space craft velocit and returns the drag force.\n",
    "    fd = 0.5 *rho*v*v*c*A\n",
    "    return(fd)"
   ]
  },
  {
   "cell_type": "markdown",
   "id": "5a2d9f90",
   "metadata": {},
   "source": [
    "### Spacecraft Parameters\n",
    "Two spacecraft parameters we will need for this are the area and the drag coefficient. Based on this document [https://www.viasat.com/content/dam/us-site/space-and-network-operations/documents/Viasat_White_Paper_Managing_MegaConstellation_Risks_in_LEO_Updated_Jan%2022.pdf], the Starlink space craft have a cross sectional area of about $24m^2$, which is dominated by the solar panels. The panels are flat so the coefficient of drag is \"2\". We will also neee the mass of the space craft which is approximatly 250 kg. We can also define a function that calcuates the drag force.\n",
    "The Starlink spacecraft orbit is approximately 550 km in altitude"
   ]
  },
  {
   "cell_type": "code",
   "execution_count": 5,
   "id": "2dd98a8e",
   "metadata": {},
   "outputs": [],
   "source": [
    "## Shuttle Parameters\n",
    "#A = 362 # space craft cross sectional area [m^2] \n",
    "#c = 2 #drag coefficient for a flat surface  [no units] \n",
    "#m = 91974 # space craft mass in [kg]\n",
    "\n",
    "## Starlink parameters\n",
    "A = 24 # space craft cross sectional area [m^2]\n",
    "c = 2 # drag coefficient for a flat surface [no units]\n",
    "m = 250 # space craft mass in [kg]"
   ]
  },
  {
   "cell_type": "markdown",
   "id": "eb350019",
   "metadata": {},
   "source": [
    "### Some initial calcuations\n",
    "Use the functions defined above to calcuate and the Starlink spacecraft:\n",
    "- The orbital velocity\n",
    "- The orbital energy\n",
    "\n",
    "Remember to convert the altitude into an orbital radius (in meters)\n",
    "\n",
    "Given the energy, recalculate the orbital radius and compare it to the original radius"
   ]
  },
  {
   "cell_type": "code",
   "execution_count": 6,
   "id": "679c9082",
   "metadata": {},
   "outputs": [
    {
     "name": "stdout",
     "output_type": "stream",
     "text": [
      "velocity in m/s: 7585.723966272801    energy in Joules -7192901011.560694\n"
     ]
    }
   ],
   "source": [
    "h = 550000 #orbit altitude in meters\n",
    "ro = Re+h #orbital radius\n",
    "v = Vel(ro)\n",
    "ene = Et(ro)\n",
    "print(\"velocity in m/s:\",v,\"   energy in Joules\", ene)\n",
    "newr = r_new(ene)"
   ]
  },
  {
   "cell_type": "markdown",
   "id": "ecdb5916",
   "metadata": {},
   "source": [
    "### Energy change for one orbit\n",
    "To estimate the effects of drag on the orbit, we are going to assume the effect is small for each orbit and is uniform over the whole orbit. We will start with an orbit of 550 km where the typical density of the atmosphere under quiet solar conditions is $4x 10^{-17} g/cm^3 = 4x 10^{-14} kg/m^3$\n",
    "\n",
    "Use the drag force and the circumfrance of the orbit to calcuate the work done by the drag force.  Compare that work to the total energy orbital energy. "
   ]
  },
  {
   "cell_type": "code",
   "execution_count": 7,
   "id": "f58d6527",
   "metadata": {},
   "outputs": [
    {
     "name": "stdout",
     "output_type": "stream",
     "text": [
      "the drag force:  0.00011048295953757226 Newtons\n",
      "the work done by drag over one orbit  4803.75956377652 Joules\n"
     ]
    }
   ],
   "source": [
    "rho = 8.00e-14\n",
    "fd = drag(rho,v)\n",
    "wd = 2*math.pi*ro*drag(rho,v)\n",
    "print(\"the drag force: \",fd, \"Newtons\")\n",
    "print(\"the work done by drag over one orbit \", wd, \"Joules\")"
   ]
  },
  {
   "cell_type": "markdown",
   "id": "888e6850",
   "metadata": {},
   "source": [
    "Now calcuate the new energy, radius, and velocity. \n",
    "How does the new radius and velcity compare to the original?\n"
   ]
  },
  {
   "cell_type": "code",
   "execution_count": 8,
   "id": "a348b390",
   "metadata": {},
   "outputs": [
    {
     "name": "stdout",
     "output_type": "stream",
     "text": [
      "new radius[meters] 549995.3784997286    new velocity[m/s] 7585.726499325036\n"
     ]
    }
   ],
   "source": [
    "new_e = ene - wd # calculate the new energy\n",
    "newr = r_new(new_e)\n",
    "newv = Vel(newr)\n",
    "print(\"new radius[meters]\", newr-Re,\"   new velocity[m/s]\", newv)"
   ]
  },
  {
   "cell_type": "markdown",
   "id": "4b0079fb",
   "metadata": {},
   "source": [
    "## Multiple Orbits\n",
    "Now setup the calculation over a number of orbits. The following functon takes in the an initial altitude (in kilometers) and number of orbits and returns new altitude as well as the elapse time after \"N\" orbits."
   ]
  },
  {
   "cell_type": "code",
   "execution_count": 18,
   "id": "8755f234",
   "metadata": {},
   "outputs": [],
   "source": [
    "def N_orbits(num,h):\n",
    "    ro = Re+h*1000 # calculate the orbit radius in meters\n",
    "    rho = 2.300e-13 # gas density at 550 km\n",
    "    N = num; i = 0 #number of orbits calcuated over\n",
    "    t = 0 # set time to zero\n",
    "    while i<N:\n",
    "        v = Vel(ro)\n",
    "        ene = Et(ro)\n",
    "        wd = 2*math.pi* ro*drag(rho,v)\n",
    "        newene= ene-wd\n",
    "        ro = r_new(newene)\n",
    "        i+=1\n",
    "        t+= 2*math.pi*ro/v # summing the time for N orbits\n",
    "    nh= (ro-Re)/1000\n",
    "    return(t,nh)"
   ]
  },
  {
   "cell_type": "code",
   "execution_count": 19,
   "id": "ae266abc",
   "metadata": {},
   "outputs": [
    {
     "name": "stdout",
     "output_type": "stream",
     "text": [
      "time for orbits in days 66.24454516127588\n",
      "orbital altitude  536.7386404644614\n"
     ]
    }
   ],
   "source": [
    "newh = N_orbits(1000,550)\n",
    "print(\"time for orbits in days\",newh[0]/(24*3600))\n",
    "print(\"orbital altitude \",newh[1])"
   ]
  },
  {
   "cell_type": "code",
   "execution_count": null,
   "id": "d65fa1e0",
   "metadata": {},
   "outputs": [],
   "source": []
  }
 ],
 "metadata": {
  "kernelspec": {
   "display_name": "Python 3 (ipykernel)",
   "language": "python",
   "name": "python3"
  },
  "language_info": {
   "codemirror_mode": {
    "name": "ipython",
    "version": 3
   },
   "file_extension": ".py",
   "mimetype": "text/x-python",
   "name": "python",
   "nbconvert_exporter": "python",
   "pygments_lexer": "ipython3",
   "version": "3.10.5"
  }
 },
 "nbformat": 4,
 "nbformat_minor": 5
}
